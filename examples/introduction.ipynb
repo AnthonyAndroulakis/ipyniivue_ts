{
 "cells": [
  {
   "cell_type": "markdown",
   "metadata": {
    "tags": []
   },
   "source": [
    "# ipyniivue"
   ]
  },
  {
   "cell_type": "code",
   "execution_count": 1,
   "metadata": {},
   "outputs": [],
   "source": [
    "from ipyniivue import Niivue"
   ]
  },
  {
   "cell_type": "code",
   "execution_count": 3,
   "metadata": {},
   "outputs": [
    {
     "data": {
      "application/vnd.jupyter.widget-view+json": {
       "model_id": "15ec894e7e5142809b8f9e1a90330e5a",
       "version_major": 2,
       "version_minor": 0
      },
      "text/plain": [
       "Niivue(value=None, volumes=[{'url': 'https://niivue.github.io/niivue/images/mni152.nii.gz', 'name': 'mni152', …"
      ]
     },
     "metadata": {},
     "output_type": "display_data"
    }
   ],
   "source": [
    "w = Niivue()\n",
    "volumes = [\n",
    "  {\n",
    "    'url': 'https://niivue.github.io/niivue/images/mni152.nii.gz',\n",
    "    'name': 'mni152',\n",
    "    'opacity': 1,\n",
    "    'visible': False\n",
    "  }\n",
    "]\n",
    "w.load_volumes(volumes)\n",
    "w"
   ]
  },
  {
   "cell_type": "code",
   "execution_count": 20,
   "metadata": {},
   "outputs": [],
   "source": [
    "w.set_height(100)"
   ]
  },
  {
   "cell_type": "code",
   "execution_count": null,
   "metadata": {},
   "outputs": [],
   "source": []
  }
 ],
 "metadata": {
  "kernelspec": {
   "display_name": "Python 3 (ipykernel)",
   "language": "python",
   "name": "python3"
  },
  "language_info": {
   "codemirror_mode": {
    "name": "ipython",
    "version": 3
   },
   "file_extension": ".py",
   "mimetype": "text/x-python",
   "name": "python",
   "nbconvert_exporter": "python",
   "pygments_lexer": "ipython3",
   "version": "3.9.12"
  }
 },
 "nbformat": 4,
 "nbformat_minor": 4
}
